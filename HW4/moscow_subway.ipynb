{
 "cells": [
  {
   "cell_type": "code",
   "execution_count": 1,
   "id": "7f979128",
   "metadata": {},
   "outputs": [],
   "source": [
    "import pandas as pd\n",
    "import numpy as np"
   ]
  },
  {
   "cell_type": "code",
   "execution_count": 2,
   "id": "855d17d4",
   "metadata": {},
   "outputs": [],
   "source": [
    "stations = pd.read_csv(\"Moscow_Subway/stations_data.txt\")\n",
    "routes = pd.read_csv(\"Moscow_Subway/routes_data.txt\")"
   ]
  },
  {
   "cell_type": "code",
   "execution_count": 3,
   "id": "08484a3c",
   "metadata": {},
   "outputs": [
    {
     "data": {
      "text/html": [
       "<div>\n",
       "<style scoped>\n",
       "    .dataframe tbody tr th:only-of-type {\n",
       "        vertical-align: middle;\n",
       "    }\n",
       "\n",
       "    .dataframe tbody tr th {\n",
       "        vertical-align: top;\n",
       "    }\n",
       "\n",
       "    .dataframe thead th {\n",
       "        text-align: right;\n",
       "    }\n",
       "</style>\n",
       "<table border=\"1\" class=\"dataframe\">\n",
       "  <thead>\n",
       "    <tr style=\"text-align: right;\">\n",
       "      <th></th>\n",
       "      <th>id</th>\n",
       "      <th>line_name</th>\n",
       "      <th>station_name</th>\n",
       "      <th>station_type</th>\n",
       "      <th>delay_morning</th>\n",
       "      <th>delay_rush</th>\n",
       "      <th>delay_night</th>\n",
       "      <th>lat</th>\n",
       "      <th>lon</th>\n",
       "    </tr>\n",
       "  </thead>\n",
       "  <tbody>\n",
       "    <tr>\n",
       "      <th>0</th>\n",
       "      <td>0</td>\n",
       "      <td>Sokolnicheskaya</td>\n",
       "      <td>Bulvar Rokossovskogo</td>\n",
       "      <td>deadend</td>\n",
       "      <td>120</td>\n",
       "      <td>90</td>\n",
       "      <td>360</td>\n",
       "      <td>55.814269</td>\n",
       "      <td>37.735117</td>\n",
       "    </tr>\n",
       "    <tr>\n",
       "      <th>1</th>\n",
       "      <td>1</td>\n",
       "      <td>Sokolnicheskaya</td>\n",
       "      <td>Cherkizovskaya</td>\n",
       "      <td>pass</td>\n",
       "      <td>120</td>\n",
       "      <td>90</td>\n",
       "      <td>360</td>\n",
       "      <td>55.802991</td>\n",
       "      <td>37.744825</td>\n",
       "    </tr>\n",
       "    <tr>\n",
       "      <th>2</th>\n",
       "      <td>2</td>\n",
       "      <td>Sokolnicheskaya</td>\n",
       "      <td>Preobrazhenskaya ploschad</td>\n",
       "      <td>pass</td>\n",
       "      <td>120</td>\n",
       "      <td>90</td>\n",
       "      <td>360</td>\n",
       "      <td>55.796172</td>\n",
       "      <td>37.715022</td>\n",
       "    </tr>\n",
       "    <tr>\n",
       "      <th>3</th>\n",
       "      <td>3</td>\n",
       "      <td>Sokolnicheskaya</td>\n",
       "      <td>Sokolniki</td>\n",
       "      <td>pass</td>\n",
       "      <td>120</td>\n",
       "      <td>90</td>\n",
       "      <td>360</td>\n",
       "      <td>55.789200</td>\n",
       "      <td>37.679706</td>\n",
       "    </tr>\n",
       "    <tr>\n",
       "      <th>4</th>\n",
       "      <td>4</td>\n",
       "      <td>Sokolnicheskaya</td>\n",
       "      <td>Krasnoselskaya</td>\n",
       "      <td>pass</td>\n",
       "      <td>120</td>\n",
       "      <td>90</td>\n",
       "      <td>360</td>\n",
       "      <td>55.779853</td>\n",
       "      <td>37.666077</td>\n",
       "    </tr>\n",
       "  </tbody>\n",
       "</table>\n",
       "</div>"
      ],
      "text/plain": [
       "   id        line_name               station_name station_type  delay_morning  \\\n",
       "0   0  Sokolnicheskaya       Bulvar Rokossovskogo      deadend            120   \n",
       "1   1  Sokolnicheskaya             Cherkizovskaya         pass            120   \n",
       "2   2  Sokolnicheskaya  Preobrazhenskaya ploschad         pass            120   \n",
       "3   3  Sokolnicheskaya                  Sokolniki         pass            120   \n",
       "4   4  Sokolnicheskaya             Krasnoselskaya         pass            120   \n",
       "\n",
       "   delay_rush  delay_night        lat        lon  \n",
       "0          90          360  55.814269  37.735117  \n",
       "1          90          360  55.802991  37.744825  \n",
       "2          90          360  55.796172  37.715022  \n",
       "3          90          360  55.789200  37.679706  \n",
       "4          90          360  55.779853  37.666077  "
      ]
     },
     "execution_count": 3,
     "metadata": {},
     "output_type": "execute_result"
    }
   ],
   "source": [
    "stations.head()"
   ]
  },
  {
   "cell_type": "code",
   "execution_count": null,
   "id": "72da1251",
   "metadata": {},
   "outputs": [],
   "source": []
  },
  {
   "cell_type": "code",
   "execution_count": 4,
   "id": "c50b43bd",
   "metadata": {},
   "outputs": [
    {
     "data": {
      "text/html": [
       "<div>\n",
       "<style scoped>\n",
       "    .dataframe tbody tr th:only-of-type {\n",
       "        vertical-align: middle;\n",
       "    }\n",
       "\n",
       "    .dataframe tbody tr th {\n",
       "        vertical-align: top;\n",
       "    }\n",
       "\n",
       "    .dataframe thead th {\n",
       "        text-align: right;\n",
       "    }\n",
       "</style>\n",
       "<table border=\"1\" class=\"dataframe\">\n",
       "  <thead>\n",
       "    <tr style=\"text-align: right;\">\n",
       "      <th></th>\n",
       "      <th>id_from</th>\n",
       "      <th>id_to</th>\n",
       "      <th>route_type</th>\n",
       "      <th>delay</th>\n",
       "    </tr>\n",
       "  </thead>\n",
       "  <tbody>\n",
       "    <tr>\n",
       "      <th>0</th>\n",
       "      <td>0</td>\n",
       "      <td>1</td>\n",
       "      <td>drive</td>\n",
       "      <td>120</td>\n",
       "    </tr>\n",
       "    <tr>\n",
       "      <th>1</th>\n",
       "      <td>1</td>\n",
       "      <td>0</td>\n",
       "      <td>drive</td>\n",
       "      <td>120</td>\n",
       "    </tr>\n",
       "    <tr>\n",
       "      <th>2</th>\n",
       "      <td>1</td>\n",
       "      <td>2</td>\n",
       "      <td>drive</td>\n",
       "      <td>240</td>\n",
       "    </tr>\n",
       "    <tr>\n",
       "      <th>3</th>\n",
       "      <td>2</td>\n",
       "      <td>1</td>\n",
       "      <td>drive</td>\n",
       "      <td>240</td>\n",
       "    </tr>\n",
       "    <tr>\n",
       "      <th>4</th>\n",
       "      <td>2</td>\n",
       "      <td>3</td>\n",
       "      <td>drive</td>\n",
       "      <td>180</td>\n",
       "    </tr>\n",
       "  </tbody>\n",
       "</table>\n",
       "</div>"
      ],
      "text/plain": [
       "   id_from  id_to route_type  delay\n",
       "0        0      1      drive    120\n",
       "1        1      0      drive    120\n",
       "2        1      2      drive    240\n",
       "3        2      1      drive    240\n",
       "4        2      3      drive    180"
      ]
     },
     "execution_count": 4,
     "metadata": {},
     "output_type": "execute_result"
    }
   ],
   "source": [
    "routes.head()"
   ]
  },
  {
   "cell_type": "code",
   "execution_count": 5,
   "id": "a067df8c",
   "metadata": {},
   "outputs": [
    {
     "data": {
      "text/plain": [
       "194"
      ]
     },
     "execution_count": 5,
     "metadata": {},
     "output_type": "execute_result"
    }
   ],
   "source": [
    "# количество станций - вершин в графе\n",
    "stations_number = stations.shape[0]\n",
    "stations_number"
   ]
  },
  {
   "cell_type": "code",
   "execution_count": 6,
   "id": "b28f509f",
   "metadata": {},
   "outputs": [],
   "source": [
    "# матрица смежности\n",
    "A = np.zeros((stations_number, stations_number), dtype=int)\n",
    "\n",
    "stations_name = [0, ] * stations_number\n",
    "\n",
    "for _, row in routes.iterrows():\n",
    "    A[row.id_from, row.id_to] = 1\n",
    "    stations_name[row.id_from] = stations.loc[stations.id == row.id_from, \"station_name\"].values[0]\n",
    "    "
   ]
  },
  {
   "cell_type": "code",
   "execution_count": 7,
   "id": "2e1f80b9",
   "metadata": {},
   "outputs": [],
   "source": [
    "np.savetxt(\"Moscow_Subway/SubwayAdj.txt\", A, delimiter=\",\", fmt=\"%d\")"
   ]
  },
  {
   "cell_type": "code",
   "execution_count": 9,
   "id": "08d29ce0",
   "metadata": {},
   "outputs": [],
   "source": [
    "with open(\"Moscow_Subway/StationName.txt\", \"w\") as f:\n",
    "    f.write(\",\".join(stations_name))"
   ]
  },
  {
   "cell_type": "code",
   "execution_count": null,
   "id": "ff6dc00a",
   "metadata": {},
   "outputs": [],
   "source": []
  },
  {
   "cell_type": "code",
   "execution_count": null,
   "id": "ad7bdc5b",
   "metadata": {},
   "outputs": [],
   "source": []
  },
  {
   "cell_type": "code",
   "execution_count": null,
   "id": "e69e4d83",
   "metadata": {},
   "outputs": [],
   "source": []
  },
  {
   "cell_type": "markdown",
   "id": "dcee5062",
   "metadata": {},
   "source": [
    "PageRank - из лекций по графам"
   ]
  },
  {
   "cell_type": "code",
   "execution_count": 10,
   "id": "1fdfe027",
   "metadata": {},
   "outputs": [],
   "source": [
    "# матрица перехода\n",
    "A_sum = A.sum(axis=1)[:, None]\n",
    "P = A / np.where(A_sum > 0, A_sum, 1)\n",
    "# вектор телепортации\n",
    "v = np.ones(A.shape[0]) / A.shape[0] \n",
    "# page-rank\n",
    "rank = np.ones(A.shape[0]) / A.shape[0] \n",
    "\n",
    "alpha = 0.99\n",
    "k = 1000\n",
    "for _ in range(k):\n",
    "    rank = alpha * P.T @ rank + (1 - alpha) * v"
   ]
  },
  {
   "cell_type": "code",
   "execution_count": 11,
   "id": "08efb363",
   "metadata": {},
   "outputs": [
    {
     "data": {
      "text/plain": [
       "array(['Kievskaya', 'Arbatskaya', 'Biblioteka imeni Lenina', 'Kievskaya',\n",
       "       'Kievskaya', 'Kurskaya', 'Taganskaya', 'Chkalovskaya',\n",
       "       'Marksistskaya', 'Kurskaya'], dtype='<U27')"
      ]
     },
     "execution_count": 11,
     "metadata": {},
     "output_type": "execute_result"
    }
   ],
   "source": [
    "np.array(stations_name)[np.argsort(rank)[::-1]][:10]"
   ]
  },
  {
   "cell_type": "code",
   "execution_count": 12,
   "id": "e3a36d85",
   "metadata": {},
   "outputs": [
    {
     "data": {
      "text/plain": [
       "array(['Marina roscha', 'Mezhdunarodnaya', 'Novokosino',\n",
       "       'Bulvar Rokossovskogo', 'Ulitsa Sergeya Eyzenshteyna', 'Vyhino',\n",
       "       'Yugo-Zapadnaya', 'Rechnoy vokzal', 'Alma-Atinskaya',\n",
       "       'Schelkovskaya'], dtype='<U27')"
      ]
     },
     "execution_count": 12,
     "metadata": {},
     "output_type": "execute_result"
    }
   ],
   "source": [
    "np.array(stations_name)[np.argsort(rank)][:10]"
   ]
  },
  {
   "cell_type": "code",
   "execution_count": null,
   "id": "91e658ef",
   "metadata": {},
   "outputs": [],
   "source": []
  },
  {
   "cell_type": "markdown",
   "id": "529b241b",
   "metadata": {},
   "source": [
    "PageRank - из лекций по HPC"
   ]
  },
  {
   "cell_type": "code",
   "execution_count": 23,
   "id": "85ce6c73",
   "metadata": {},
   "outputs": [],
   "source": [
    "rank = np.ones(A.shape[0]) / A.shape[0] \n",
    "\n",
    "A_sum = A.sum(axis=1)[:, None]\n",
    "P = A / np.where(A_sum > 0, A_sum, 1)\n",
    "\n",
    "P = P.T * alpha + np.ones_like(P) * (1 - alpha) / A.shape[0]\n",
    "\n",
    "for _ in range(k):\n",
    "    y = P @ rank\n",
    "    rank = y / np.linalg.norm(y)"
   ]
  },
  {
   "cell_type": "code",
   "execution_count": 24,
   "id": "af8f2073",
   "metadata": {},
   "outputs": [
    {
     "data": {
      "text/plain": [
       "array(['Kievskaya', 'Arbatskaya', 'Biblioteka imeni Lenina', 'Kievskaya',\n",
       "       'Kievskaya', 'Kurskaya', 'Taganskaya', 'Chkalovskaya',\n",
       "       'Marksistskaya', 'Kurskaya'], dtype='<U27')"
      ]
     },
     "execution_count": 24,
     "metadata": {},
     "output_type": "execute_result"
    }
   ],
   "source": [
    "np.array(stations_name)[np.argsort(rank)[::-1]][:10]"
   ]
  },
  {
   "cell_type": "code",
   "execution_count": 15,
   "id": "cfcdafe2",
   "metadata": {},
   "outputs": [
    {
     "data": {
      "text/plain": [
       "array(['Marina roscha', 'Mezhdunarodnaya', 'Novokosino',\n",
       "       'Bulvar Rokossovskogo', 'Ulitsa Sergeya Eyzenshteyna', 'Vyhino',\n",
       "       'Yugo-Zapadnaya', 'Rechnoy vokzal', 'Alma-Atinskaya',\n",
       "       'Schelkovskaya'], dtype='<U27')"
      ]
     },
     "execution_count": 15,
     "metadata": {},
     "output_type": "execute_result"
    }
   ],
   "source": [
    "np.array(stations_name)[np.argsort(rank)][:10]"
   ]
  },
  {
   "cell_type": "code",
   "execution_count": null,
   "id": "94d73f5a",
   "metadata": {},
   "outputs": [],
   "source": []
  }
 ],
 "metadata": {
  "kernelspec": {
   "display_name": "Python 3 (ipykernel)",
   "language": "python",
   "name": "python3"
  },
  "language_info": {
   "codemirror_mode": {
    "name": "ipython",
    "version": 3
   },
   "file_extension": ".py",
   "mimetype": "text/x-python",
   "name": "python",
   "nbconvert_exporter": "python",
   "pygments_lexer": "ipython3",
   "version": "3.9.13"
  }
 },
 "nbformat": 4,
 "nbformat_minor": 5
}
